{
  "nbformat": 4,
  "nbformat_minor": 0,
  "metadata": {
    "colab": {
      "name": "Zeus_starter_notebook.ipynb",
      "provenance": [],
      "authorship_tag": "ABX9TyNuaf3rLp+bGdS1Zh6HqLpg",
      "include_colab_link": true
    },
    "kernelspec": {
      "name": "python3",
      "display_name": "Python 3"
    }
  },
  "cells": [
    {
      "cell_type": "markdown",
      "metadata": {
        "id": "view-in-github",
        "colab_type": "text"
      },
      "source": [
        "<a href=\"https://colab.research.google.com/github/BNkosi/Zeus/blob/master/Zeus_starter_notebook.ipynb\" target=\"_parent\"><img src=\"https://colab.research.google.com/assets/colab-badge.svg\" alt=\"Open In Colab\"/></a>"
      ]
    },
    {
      "cell_type": "markdown",
      "metadata": {
        "id": "cpbB3Ol21r3V",
        "colab_type": "text"
      },
      "source": [
        "# Zeus - a closed domain question answering chatbot\n",
        "\n",
        "<img src =\"https://infobush.com/wp-content/uploads/2020/01/Facts-About-Zeus.jpg\" align=\"left\">"
      ]
    },
    {
      "cell_type": "markdown",
      "metadata": {
        "id": "tzK_47Ol6Cjd",
        "colab_type": "text"
      },
      "source": [
        "**Team Members**: B. Nkosi, K. Galela, K. Mnguni, N. Msibi, N. Magudulela, O. Mkhuhlane, T. Muthego, V. Mthemba\n",
        "\n",
        "* [Model Repo](https://github.com/BNkosi/Zeus)\n",
        "* [Data Repo]\n",
        "* [Model Trello Board](https://trello.com/b/pNaYe3pe/zeus)\n",
        "* [Data Trello Board]"
      ]
    },
    {
      "cell_type": "markdown",
      "metadata": {
        "id": "_tQtHBiA10L3",
        "colab_type": "text"
      },
      "source": [
        "## Table of Contents\n",
        "---\n",
        "1. [Introduction](#intro)\n",
        "  * Background\n",
        "  * Problem Statement\n",
        "---\n",
        "2. [Imports](#imports)\n",
        "  * Libraries\n",
        "  * Data\n",
        "---\n",
        "3. [Modelling](#model)\n",
        "  * Basic QA Pipeline\n",
        "  * Model selection\n",
        "  * Retriever selection\n",
        "  * Fine-tuning\n",
        "---\n",
        "4. [Evaluation](#evaluation)\n",
        "---\n",
        "5. [Model Analysis](#analysis)\n",
        "  * Results\n",
        "---\n",
        "6. [Conclusion](#conclusion)\n",
        "---\n",
        "7. [References](#ref)\n",
        "---\n",
        "  \n"
      ]
    },
    {
      "cell_type": "markdown",
      "metadata": {
        "id": "pI9WExKi7aXn",
        "colab_type": "text"
      },
      "source": [
        "<a id=\"intro\"></a>\n",
        "## 1. Introduction\n",
        "### Background\n",
        "\n",
        "The EDSA QA chatbot has two parts - Onboarding Chatbot and Zues.\n",
        "\n",
        "### Onboarding Chatbot\n",
        "\n",
        "Your co-pilot when you join the company or step into a new role\n",
        "\n",
        "We all have access to the internet and the majority of us have become very good at using search engines to find the kind of information we need. The world is also slowly moving toward interactive search functionality such as chatbots \n",
        "\n",
        "Many corporates have built chatbot with Q+A functionality to improve customer experience and rapidly return the kinds of basic answers that customers need to make their product purchasing decisions. However, this technology appears to be vastly underutilized within the internal staff structures of company. Most corporate staff work within a team and division and their intimate knowledge of company policies, procedures, best practices and tools fall within the domain of that team or division. If they need to work on something that is usually foreign to their role, they have to ask a member of another team or division.\n",
        "\n",
        "This either takes place in the form of an email (cumbersome and often gets ignored) or being pestered in person (distracting and annoying at times). This tool would be trained on the companies internal policies, regulations, best practices, corporate communications, tool documentations etc. to generate an understanding of how to best answer questions that staff may have about things that they are not intimately aware of but need near real-time feedback on to continue with their own projects.\n",
        "\n",
        "### Zeus\n",
        "\n",
        "Answer Domain specific questions to aid the user when they need it\n",
        "\n",
        "Covid-19 brings new challenges to the education sector in that learning can no longer take place face-to-face. A key tool in education is learner engagement in the form of live questions and answers and the instructor being able to gauge whether they’ve lost their audience to re-explain a key concept in different ways. A key skill of an instructor is to be able to support their answers with reference to principles and provide relatable examples.\n",
        "\n",
        "Company X would like to build a virtual instructor that can answer complex questions accompanying their online media content. This tool would answer a content viewers’ questions even though they are not viewing live and eventually stand alone as a student resource. The tool would be trained on student handbooks, past exams, suggested solutions, video-content, etc. in order to present an answer with extracts from key text and examples to the students’ question.\n",
        "\n",
        "### Problem Statement\n",
        "\n",
        "1. Build an closed domain question answering pipeline to answer textual questions.\n",
        "\n",
        "2. Train the pipeline on:\n",
        "  * Companies internal policies, regulations, best practices, corporate communications, etc. - Onboarding\n",
        "  * EDSA problem statement, preprocessing, trains and other external resources."
      ]
    },
    {
      "cell_type": "markdown",
      "metadata": {
        "id": "gGEnBg2P8DiK",
        "colab_type": "text"
      },
      "source": [
        "<a id=\"imports\"></a>\n",
        "## Imports\n",
        "\n",
        "### Libraries"
      ]
    },
    {
      "cell_type": "code",
      "metadata": {
        "id": "rZPhyjww1l3S",
        "colab_type": "code",
        "colab": {}
      },
      "source": [
        "# Required Libraries\n",
        "!pip install farm-haystack"
      ],
      "execution_count": null,
      "outputs": []
    },
    {
      "cell_type": "code",
      "metadata": {
        "id": "nmDKurLj8ZvU",
        "colab_type": "code",
        "colab": {}
      },
      "source": [
        "from haystack import Finder\n",
        "from haystack.indexing.cleaning import clean_wiki_text\n",
        "from haystack.indexing.utils import convert_files_to_dicts, fetch_archive_from_http\n",
        "from haystack.reader.farm import FARMReader\n",
        "from haystack.reader.transformers import TransformersReader\n",
        "from haystack.utils import print_answers"
      ],
      "execution_count": 7,
      "outputs": []
    },
    {
      "cell_type": "markdown",
      "metadata": {
        "id": "ZwnNpsh49-PK",
        "colab_type": "text"
      },
      "source": [
        "To continue, please check out the tutorials in the [haystack](https://github.com/deepset-ai/haystack) repository"
      ]
    },
    {
      "cell_type": "code",
      "metadata": {
        "id": "AeUySfra86vq",
        "colab_type": "code",
        "colab": {}
      },
      "source": [
        ""
      ],
      "execution_count": null,
      "outputs": []
    }
  ]
}